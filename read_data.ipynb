{
 "cells": [
  {
   "cell_type": "code",
   "execution_count": 1,
   "id": "925ac156",
   "metadata": {},
   "outputs": [
    {
     "data": {
      "text/plain": [
       "(1006, 3)"
      ]
     },
     "execution_count": 1,
     "metadata": {},
     "output_type": "execute_result"
    }
   ],
   "source": [
    "import pandas as pd\n",
    "from datetime import datetime\n",
    "pd.set_option(\"display.max_colwidth\", None)\n",
    "df = pd.read_csv(\"all_posts.csv\")\n",
    "df.shape"
   ]
  },
  {
   "cell_type": "code",
   "execution_count": 2,
   "id": "d5707026",
   "metadata": {},
   "outputs": [
    {
     "data": {
      "text/plain": [
       "datetime.datetime(2025, 10, 21, 10, 18, 33, 469758)"
      ]
     },
     "execution_count": 2,
     "metadata": {},
     "output_type": "execute_result"
    }
   ],
   "source": [
    "from datetime import datetime\n",
    "\n",
    "datetime.now()"
   ]
  },
  {
   "cell_type": "code",
   "execution_count": 11,
   "id": "3a18f950",
   "metadata": {},
   "outputs": [
    {
     "data": {
      "text/plain": [
       "['https://www.facebook.com/share/p/1SkdcDuucr/?',\n",
       " 'https://www.facebook.com/share/p/1B6r3Tyqoi/?',\n",
       " 'https://www.facebook.com/groups/399427430492995/',\n",
       " 'https://www.facebook.com/groups/candelal/',\n",
       " 'https://www.facebook.com/groups/1311359729244664/',\n",
       " 'https://www.facebook.com/share/g/1FxUTYU3PH/',\n",
       " 'https://www.facebook.com/share/g/17Z6HLRUp7/',\n",
       " 'https://www.facebook.com/share/g/19d1VsyE7c/',\n",
       " 'https://www.facebook.com/share/g/1Gz4ey5P1C/',\n",
       " 'https://www.facebook.com/groups/chinhsachphapluat/',\n",
       " 'https://www.facebook.com/groups/1449573675728655/',\n",
       " 'https://www.facebook.com/groups/simplize.vn/',\n",
       " 'https://www.facebook.com/groups/dautuchungkhoandinhluong/',\n",
       " 'https://www.facebook.com/groups/tienodau/',\n",
       " 'https://www.facebook.com/groups/congdongnhadaututhanhcong/',\n",
       " 'https://www.facebook.com/groups/dautucophieugroup/',\n",
       " 'https://www.facebook.com/groups/1215997045898831/',\n",
       " 'https://www.facebook.com/groups/808992203553955/',\n",
       " 'https://www.facebook.com/groups/vnccs/',\n",
       " 'https://www.facebook.com/groups/clbdautucophieu/',\n",
       " 'https://www.facebook.com/groups/logicfinance/',\n",
       " 'https://www.facebook.com/groups/2340891349294216/',\n",
       " 'https://www.facebook.com/groups/tuhocchungkhoan/',\n",
       " 'https://www.facebook.com/groups/chungkhoanndtcamap/',\n",
       " 'https://www.facebook.com/groups/nghiendulieu/',\n",
       " 'https://www.facebook.com/groups/bovagau/',\n",
       " 'https://www.facebook.com/groups/5free.catle.investment/',\n",
       " 'https://www.facebook.com/groups/442183905968331/',\n",
       " 'https://www.facebook.com/chungkhoanf247',\n",
       " 'https://www.facebook.com/groups/2020716511440156/',\n",
       " 'https://www.facebook.com/groups/322779779237341/',\n",
       " 'https://www.facebook.com/groups/1945114669035974/',\n",
       " 'https://www.facebook.com/groups/202428219869114/',\n",
       " 'https://www.facebook.com/groups/250355719035739/',\n",
       " 'https://www.facebook.com/kirincapitalvietnam',\n",
       " 'https://www.facebook.com/phantichchungkhoanvn',\n",
       " 'https://www.facebook.com/quangdungdbd1',\n",
       " 'https://www.facebook.com/groups/659903016678594',\n",
       " 'https://www.facebook.com/groups/207745616086696',\n",
       " 'https://www.facebook.com/groups/238021257145972']"
      ]
     },
     "execution_count": 11,
     "metadata": {},
     "output_type": "execute_result"
    }
   ],
   "source": [
    "fb_sources = pd.read_csv(\"Sentiment_Source.csv\")\n",
    "fb_sources[fb_sources[\"Loại nguồn\"]==\"Facebook\"].loc[:, \"Link\"].tolist()"
   ]
  }
 ],
 "metadata": {
  "kernelspec": {
   "display_name": "crawler",
   "language": "python",
   "name": "python3"
  },
  "language_info": {
   "codemirror_mode": {
    "name": "ipython",
    "version": 3
   },
   "file_extension": ".py",
   "mimetype": "text/x-python",
   "name": "python",
   "nbconvert_exporter": "python",
   "pygments_lexer": "ipython3",
   "version": "3.13.5"
  }
 },
 "nbformat": 4,
 "nbformat_minor": 5
}
